{
 "cells": [
  {
   "cell_type": "code",
   "execution_count": null,
   "id": "55748658",
   "metadata": {},
   "outputs": [],
   "source": [
    "import csv\n",
    "num_attributes=6\n",
    "a=[]\n",
    "print(\"\\n The Given Training Data Set\\n\")\n",
    "with open ('dataset.csv','r') as csvfile:\n",
    "    reader = csv.reader(csvfile)\n",
    "    for row in reader:\n",
    "        a.append(row)\n",
    "        print(row)\n",
    "        \n",
    "print(\"\\n The initial value of hypothesis:\")\n",
    "hypothesis=['0']*num_attributes\n",
    "print(hypothesis)\n",
    "\n",
    "#Initialize hypothesis with the first positive examples\n",
    "for j in range(0,num_attributes):\n",
    "    hypothesis[j]=a[0][j]\n",
    "    \n",
    "print(\"\\n Find S: Finding a maximally Specific Hypothesis\\n\")\n",
    "\n",
    "for i in range(0,len(a)): #loop through training examples\n",
    "    if a[i][num_attributes] == 'Yes': #Consider only positive examples\n",
    "        for j in range(0,num_attributes):\n",
    "            if a[i][j] != hypothesis[j]:\n",
    "                hypothesis[j]='?'\n",
    "            else:\n",
    "                hypothesis[j]=a[i][j]\n",
    "                \n",
    "    #Changed training instance number from (i) to (i+1)\n",
    "    print(\"For Training instance No:{0} the hypothesis is\".format(i+1),hypothesis)\n",
    "    \n",
    "print(\"\\n The Maximally Specific Hypothesis for a given  Training Examples:\\n\")\n",
    "print(hypothesis)"
   ]
  }
 ],
 "metadata": {
  "kernelspec": {
   "display_name": "Python 3 (ipykernel)",
   "language": "python",
   "name": "python3"
  },
  "language_info": {
   "codemirror_mode": {
    "name": "ipython",
    "version": 3
   },
   "file_extension": ".py",
   "mimetype": "text/x-python",
   "name": "python",
   "nbconvert_exporter": "python",
   "pygments_lexer": "ipython3",
   "version": "3.9.12"
  }
 },
 "nbformat": 4,
 "nbformat_minor": 5
}
